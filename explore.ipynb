{
  "cells": [
    {
      "cell_type": "code",
      "source": [
        "import pandas as pd\n",
        "from vdom import pre\n",
        "\n",
        "pd.options.display.html.table_schema = True # Data Explorer On!\n",
        "pd.options.display.max_rows = None # Send all the data! (careful!)"
      ],
      "outputs": [],
      "execution_count": 2,
      "metadata": {
        "collapsed": false,
        "outputHidden": false,
        "inputHidden": false
      }
    },
    {
      "cell_type": "code",
      "source": [
        "df = pd.read_csv(\"databed0.csv\")\n",
        "df1 = df[:500]"
      ],
      "outputs": [],
      "execution_count": 4,
      "metadata": {
        "collapsed": false,
        "outputHidden": false,
        "inputHidden": false
      }
    },
    {
      "cell_type": "code",
      "source": [
        "display(pre(\"Note: This data is sampled\"))\n",
        "#df1"
      ],
      "outputs": [
        {
          "output_type": "display_data",
          "data": {
            "application/vdom.v1+json": {
              "tagName": "pre",
              "attributes": {},
              "children": [
                "Note: This data is sampled"
              ]
            },
            "text/plain": [
              "<pre>Note: This data is sampled</pre>"
            ],
            "text/html": [
              "<pre>Note: This data is sampled</pre>"
            ]
          },
          "metadata": {}
        }
      ],
      "execution_count": 6,
      "metadata": {
        "collapsed": false,
        "outputHidden": false,
        "inputHidden": false
      }
    },
    {
      "cell_type": "code",
      "source": [],
      "outputs": [],
      "execution_count": null,
      "metadata": {
        "collapsed": false,
        "outputHidden": false,
        "inputHidden": false
      }
    }
  ],
  "metadata": {
    "kernel_info": {
      "name": "python3"
    },
    "language_info": {
      "name": "python",
      "version": "3.7.1",
      "mimetype": "text/x-python",
      "codemirror_mode": {
        "name": "ipython",
        "version": 3
      },
      "pygments_lexer": "ipython3",
      "nbconvert_exporter": "python",
      "file_extension": ".py"
    },
    "kernelspec": {
      "name": "python3",
      "language": "python",
      "display_name": "Python 3"
    },
    "nteract": {
      "version": "0.13.0"
    },
    "gist_id": "c430b4df519b4dee575c5d44ea4eac11"
  },
  "nbformat": 4,
  "nbformat_minor": 0
}